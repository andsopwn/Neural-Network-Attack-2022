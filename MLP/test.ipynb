{
 "cells": [
  {
   "cell_type": "code",
   "execution_count": 36,
   "metadata": {},
   "outputs": [],
   "source": [
    "import matplotlib\n",
    "import matplotlib.pyplot as plt\n",
    "import numpy as np\n",
    "import pandas as pd"
   ]
  },
  {
   "cell_type": "code",
   "execution_count": 37,
   "metadata": {},
   "outputs": [
    {
     "name": "stdout",
     "output_type": "stream",
     "text": [
      "(255, 12000)\n"
     ]
    }
   ],
   "source": [
    "t = np.load(\"../Float-Point-NN-Mantissa/Trace/mlp.npy\")\n",
    "print(t.shape)"
   ]
  },
  {
   "cell_type": "code",
   "execution_count": 40,
   "metadata": {},
   "outputs": [],
   "source": [
    "trace_df = pd.DataFrame(t)"
   ]
  },
  {
   "cell_type": "code",
   "execution_count": 43,
   "metadata": {},
   "outputs": [
    {
     "name": "stdout",
     "output_type": "stream",
     "text": [
      "     0      1      2      3      4      5      6      7      8      9      \\\n",
      "0     88.0   41.0   53.5  153.5  137.0   97.0   98.0  110.5   73.0   19.5   \n",
      "1     20.0    7.5    9.5   24.5   43.5  206.0   98.0   38.0  168.0  175.0   \n",
      "2     20.0    1.5    2.0   24.5  137.0  232.5   30.5   17.5  168.0  112.5   \n",
      "3     88.0    7.5   53.5   24.5   43.5  186.0   98.0   38.0  168.0  112.5   \n",
      "4    185.0  222.5  146.0   80.0  137.0  129.0   98.0  110.5  168.0   19.5   \n",
      "..     ...    ...    ...    ...    ...    ...    ...    ...    ...    ...   \n",
      "250   88.0  133.5  226.0  214.5  222.0   48.5  239.0  200.5   73.0  112.5   \n",
      "251  240.5  251.0    9.5   24.5  222.0  253.0   98.0   72.5  234.5  254.5   \n",
      "252    3.0  133.5  146.0   80.0  137.0  141.0  186.0   72.5  168.0  112.5   \n",
      "253   88.0  251.0   53.5  247.5  137.0   85.0   98.0  156.0  168.0  112.5   \n",
      "254  185.0  222.5  226.0  247.5  137.0  186.0  186.0   72.5  234.5  175.0   \n",
      "\n",
      "     ...  11990  11991  11992  11993  11994  11995  11996  11997  11998  11999  \n",
      "0    ...  203.0  255.0  202.0  202.0  255.0  255.0  254.0  202.0  255.0  255.0  \n",
      "1    ...  118.5  119.0  119.0   36.0   39.0   39.0   45.0  139.0  177.0  177.0  \n",
      "2    ...  128.5  122.0  120.5  196.0  197.0  197.5  198.0  197.5  199.0  195.5  \n",
      "3    ...    6.0   13.5   55.5   43.0  164.5  179.5  180.5  193.5  195.5  199.0  \n",
      "4    ...  128.5  122.0  123.0  199.0  197.0  197.5  198.0  200.0  199.0  193.5  \n",
      "..   ...    ...    ...    ...    ...    ...    ...    ...    ...    ...    ...  \n",
      "250  ...  104.0  103.0  101.0   17.0   19.0   26.0   25.5  122.5  124.5  132.0  \n",
      "251  ...   94.5  103.0   81.5   28.0   19.0   35.0   35.0  132.5  124.5  132.0  \n",
      "252  ...  112.0   93.5  101.0   17.0   29.0   26.0   14.5  112.5  107.5  106.0  \n",
      "253  ...  116.0  113.5  117.5   17.0   36.5   26.0   25.5  132.5  134.5  119.0  \n",
      "254  ...   89.5   88.5   81.5   10.5   10.0   14.5   35.0  112.5  124.5  119.0  \n",
      "\n",
      "[255 rows x 12000 columns]\n"
     ]
    }
   ],
   "source": [
    "print(trace_df.rank())"
   ]
  },
  {
   "cell_type": "code",
   "execution_count": null,
   "metadata": {},
   "outputs": [],
   "source": []
  }
 ],
 "metadata": {
  "kernelspec": {
   "display_name": "Python 3.10.4 64-bit",
   "language": "python",
   "name": "python3"
  },
  "language_info": {
   "codemirror_mode": {
    "name": "ipython",
    "version": 3
   },
   "file_extension": ".py",
   "mimetype": "text/x-python",
   "name": "python",
   "nbconvert_exporter": "python",
   "pygments_lexer": "ipython3",
   "version": "3.10.4"
  },
  "orig_nbformat": 4,
  "vscode": {
   "interpreter": {
    "hash": "97cc609b13305c559618ec78a438abc56230b9381f827f22d070313b9a1f3777"
   }
  }
 },
 "nbformat": 4,
 "nbformat_minor": 2
}
