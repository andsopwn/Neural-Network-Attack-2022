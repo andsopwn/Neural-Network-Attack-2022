{
 "cells": [
  {
   "cell_type": "code",
   "execution_count": null,
   "metadata": {},
   "outputs": [],
   "source": [
    "import matplotlib\n",
    "import matplotlib.pyplot as plt\n",
    "import numpy as np\n",
    "\n",
    "dir = '../../mnt/c/Users/louxsoen/Documents/P/Nerual-Network-SCA/Float-Point-NN-Mantissa/Trace/'"
   ]
  },
  {
   "cell_type": "code",
   "execution_count": null,
   "metadata": {},
   "outputs": [],
   "source": [
    "relu = np.load(dir + 'relu.npy')\n",
    "rmlp = np.load(dir + 'mlp.npy')\n",
    "print(relu.shape)\n",
    "print(rmlp.shape)"
   ]
  },
  {
   "cell_type": "code",
   "execution_count": null,
   "metadata": {},
   "outputs": [],
   "source": [
    "\n",
    "cutsize = 400\n",
    "strsize = 500\n",
    "cutR = np.zeros([2, cutsize])\n",
    "cutR[0] = relu[0][strsize:strsize + cutsize]\n",
    "cutR[1] = relu[1][strsize:strsize + cutsize]\n",
    "\n",
    "plt.figure(figsize=(10,2))\n",
    "plt.plot(cutR[0])\n",
    "plt.show()\n",
    "\n",
    "print(np.corrcoef(cutR[0], cutR[1])[0,1])\n",
    "if cutsize + strsize > 1050:    print(\"OVER SHOOT\")"
   ]
  },
  {
   "cell_type": "code",
   "execution_count": null,
   "metadata": {},
   "outputs": [],
   "source": [
    "endpt = 16000\n",
    "corr_minus = np.zeros([255, endpt])\n",
    "corr_plus  = np.zeros([255, endpt])\n",
    "\n",
    "max_minus = np.zeros(endpt)\n",
    "loc_minus = np.zeros(endpt)\n",
    "max_plus  = np.zeros(endpt)\n",
    "loc_plus  = np.zeros(endpt)\n",
    "#for j in range(1, 2):\n",
    "\n",
    "#  Minus ReLU\n",
    "for a in range(0, 255):\n",
    "    for i in range(0, endpt, 1):\n",
    "        mcut = rmlp[a][i:i+cutsize]\n",
    "        corr_minus[a][i] = np.corrcoef(mcut, cutR[0])[0,1]\n",
    "\n",
    "#   Plus ReLU\n",
    "for a in range(0, 255):\n",
    "    for i in range(0, endpt, 1):\n",
    "        mcut = rmlp[a][i:i+cutsize]\n",
    "        corr_plus[a][i] = np.corrcoef(mcut, cutR[1])[0,1]\n"
   ]
  },
  {
   "cell_type": "code",
   "execution_count": null,
   "metadata": {},
   "outputs": [],
   "source": [
    "plt.figure(figsize=(5,3))\n",
    "plt.suptitle('corr_minus plot [cutted]')\n",
    "plt.plot(corr_minus[8][13500:15500])\n",
    "plt.show()\n",
    "plt.figure(figsize=(5,1))\n",
    "plt.suptitle('corr_minus plot [FULL]')\n",
    "plt.plot(corr_minus[0])\n",
    "plt.show()\n",
    "\n",
    "plt.figure(figsize=(5,3))\n",
    "plt.suptitle('corr_plus plot [cutted]')\n",
    "plt.plot(corr_plus[8][13500:15500])\n",
    "plt.show()\n",
    "plt.figure(figsize=(5,1))\n",
    "plt.suptitle('corr_plus plot [FULL]')\n",
    "plt.plot(corr_plus[0])\n",
    "plt.show()"
   ]
  },
  {
   "cell_type": "code",
   "execution_count": null,
   "metadata": {},
   "outputs": [],
   "source": [
    "np.save(dir + \"corr_minus\", corr_minus)\n",
    "np.save(dir + \"corr_plus\",  corr_plus)"
   ]
  },
  {
   "cell_type": "code",
   "execution_count": null,
   "metadata": {},
   "outputs": [],
   "source": []
  }
 ],
 "metadata": {
  "kernelspec": {
   "display_name": "Python 3 (ipykernel)",
   "language": "python",
   "name": "python3"
  },
  "orig_nbformat": 4,
  "vscode": {
   "interpreter": {
    "hash": "726722e919e23c45be5c6cce449442ea865a346cd672f5e8d299527996a9260e"
   }
  }
 },
 "nbformat": 4,
 "nbformat_minor": 2
}
